{
  "cells": [
    {
      "cell_type": "markdown",
      "metadata": {
        "id": "E49rw9D1kLiq"
      },
      "source": [
        "# Implementing TorchCDE - Neural Controlled Differential Equations"
      ]
    },
    {
      "cell_type": "code",
      "source": [
        "!pip install torchcde"
      ],
      "metadata": {
        "colab": {
          "base_uri": "https://localhost:8080/"
        },
        "id": "uJ8BpZLjkhIr",
        "outputId": "a5c279c3-fc73-46b1-ef4c-e05ae9a5ca18"
      },
      "execution_count": 1,
      "outputs": [
        {
          "output_type": "stream",
          "name": "stdout",
          "text": [
            "Collecting torchcde\n",
            "  Downloading torchcde-0.2.5-py3-none-any.whl (28 kB)\n",
            "Requirement already satisfied: torch>=1.7.0 in /usr/local/lib/python3.7/dist-packages (from torchcde) (1.11.0+cu113)\n",
            "Collecting torchsde>=0.2.5\n",
            "  Downloading torchsde-0.2.5-py3-none-any.whl (59 kB)\n",
            "\u001b[K     |████████████████████████████████| 59 kB 4.6 MB/s \n",
            "\u001b[?25hCollecting torchdiffeq>=0.2.0\n",
            "  Downloading torchdiffeq-0.2.3-py3-none-any.whl (31 kB)\n",
            "Requirement already satisfied: typing-extensions in /usr/local/lib/python3.7/dist-packages (from torch>=1.7.0->torchcde) (4.2.0)\n",
            "Requirement already satisfied: scipy>=1.4.0 in /usr/local/lib/python3.7/dist-packages (from torchdiffeq>=0.2.0->torchcde) (1.4.1)\n",
            "Requirement already satisfied: numpy>=1.13.3 in /usr/local/lib/python3.7/dist-packages (from scipy>=1.4.0->torchdiffeq>=0.2.0->torchcde) (1.21.6)\n",
            "Collecting boltons>=20.2.1\n",
            "  Downloading boltons-21.0.0-py2.py3-none-any.whl (193 kB)\n",
            "\u001b[K     |████████████████████████████████| 193 kB 35.6 MB/s \n",
            "\u001b[?25hCollecting trampoline>=0.1.2\n",
            "  Downloading trampoline-0.1.2-py3-none-any.whl (5.2 kB)\n",
            "Collecting scipy>=1.4.0\n",
            "  Downloading scipy-1.7.3-cp37-cp37m-manylinux_2_12_x86_64.manylinux2010_x86_64.whl (38.1 MB)\n",
            "\u001b[K     |████████████████████████████████| 38.1 MB 320 kB/s \n",
            "\u001b[?25hInstalling collected packages: trampoline, scipy, boltons, torchsde, torchdiffeq, torchcde\n",
            "  Attempting uninstall: scipy\n",
            "    Found existing installation: scipy 1.4.1\n",
            "    Uninstalling scipy-1.4.1:\n",
            "      Successfully uninstalled scipy-1.4.1\n",
            "\u001b[31mERROR: pip's dependency resolver does not currently take into account all the packages that are installed. This behaviour is the source of the following dependency conflicts.\n",
            "albumentations 0.1.12 requires imgaug<0.2.7,>=0.2.5, but you have imgaug 0.2.9 which is incompatible.\u001b[0m\n",
            "Successfully installed boltons-21.0.0 scipy-1.7.3 torchcde-0.2.5 torchdiffeq-0.2.3 torchsde-0.2.5 trampoline-0.1.2\n"
          ]
        }
      ]
    },
    {
      "cell_type": "code",
      "execution_count": 2,
      "metadata": {
        "id": "WbxeKA-vkLir"
      },
      "outputs": [],
      "source": [
        "import numpy as np\n",
        "import sklearn\n",
        "import os\n",
        "import pickle\n",
        "import matplotlib.pyplot as plt\n",
        "\n",
        "import torch\n",
        "import torch.nn as nn\n",
        "import torch.nn.functional as F\n",
        "from torchvision import transforms\n",
        "\n",
        "%load_ext autoreload\n",
        "%autoreload 2"
      ]
    },
    {
      "cell_type": "code",
      "source": [
        "from google.colab import drive\n",
        "drive.mount('/content/drive')"
      ],
      "metadata": {
        "colab": {
          "base_uri": "https://localhost:8080/"
        },
        "id": "TX0yUCltk02p",
        "outputId": "f6d6765f-d93e-49fc-8a1b-02c3fb285757"
      },
      "execution_count": 3,
      "outputs": [
        {
          "output_type": "stream",
          "name": "stdout",
          "text": [
            "Mounted at /content/drive\n"
          ]
        }
      ]
    },
    {
      "cell_type": "code",
      "execution_count": 4,
      "metadata": {
        "id": "k8hjusbWkLis"
      },
      "outputs": [],
      "source": [
        "import torchcde"
      ]
    },
    {
      "cell_type": "markdown",
      "metadata": {
        "id": "e6HBE1P-kLis"
      },
      "source": [
        "## Load dataset\n",
        "\n",
        "**Format**: \n",
        "\n",
        "$ [traces, images, tokens, expressions] $"
      ]
    },
    {
      "cell_type": "code",
      "execution_count": 5,
      "metadata": {
        "colab": {
          "base_uri": "https://localhost:8080/"
        },
        "id": "6zYO8-_skLit",
        "outputId": "fc4c4e4d-400f-4018-9bb9-2bd429a45c96"
      },
      "outputs": [
        {
          "output_type": "stream",
          "name": "stdout",
          "text": [
            "(4, 10939)\n"
          ]
        }
      ],
      "source": [
        "DATA_DIR = '/content/drive/MyDrive/'\n",
        "# DATASET_PICKLE = [traces, images, tokens, expressions]\n",
        "path = os.path.join(DATA_DIR, 'dataset_cleaned_125.pkl')\n",
        "\n",
        "with open(path, 'rb') as f:\n",
        "    dataset = pickle.load(f)\n",
        "          \n",
        "print((len(dataset), len(dataset[0])))"
      ]
    },
    {
      "cell_type": "code",
      "execution_count": 6,
      "metadata": {
        "id": "z8-dah5pkLiu"
      },
      "outputs": [],
      "source": [
        "traces, images, tokens = dataset[0], dataset[1], dataset[2]"
      ]
    },
    {
      "cell_type": "code",
      "execution_count": 7,
      "metadata": {
        "colab": {
          "base_uri": "https://localhost:8080/"
        },
        "id": "tjlmmfxKkLiu",
        "outputId": "5e197f55-f3fc-4abc-adf5-f5d56f066e33"
      },
      "outputs": [
        {
          "output_type": "execute_result",
          "data": {
            "text/plain": [
              "10939"
            ]
          },
          "metadata": {},
          "execution_count": 7
        }
      ],
      "source": [
        "len(traces)"
      ]
    },
    {
      "cell_type": "markdown",
      "metadata": {
        "id": "C7UUrY6WkLiu"
      },
      "source": [
        "### Visualize trace lengths"
      ]
    },
    {
      "cell_type": "code",
      "execution_count": 8,
      "metadata": {
        "id": "7dOxeb4XkLiu"
      },
      "outputs": [],
      "source": [
        "trace_lengths = []\n",
        "\n",
        "for sample, trace in enumerate(traces):\n",
        "    x, y = [], []\n",
        "    for i in range(len(trace[0])):\n",
        "        x.extend(trace[0][i])\n",
        "        y.extend(trace[1][i])\n",
        "        \n",
        "    assert len(x)==len(y)\n",
        "    trace_lengths.append(len(x))"
      ]
    },
    {
      "cell_type": "code",
      "execution_count": 9,
      "metadata": {
        "colab": {
          "base_uri": "https://localhost:8080/",
          "height": 440
        },
        "id": "ql4I6pFGkLiv",
        "outputId": "01431976-e859-41b6-e93d-b1847e682fd9"
      },
      "outputs": [
        {
          "output_type": "stream",
          "name": "stdout",
          "text": [
            "6581\n",
            "8030\n"
          ]
        },
        {
          "output_type": "execute_result",
          "data": {
            "text/plain": [
              "Text(0.5, 0, 'trace length')"
            ]
          },
          "metadata": {},
          "execution_count": 9
        },
        {
          "output_type": "display_data",
          "data": {
            "text/plain": [
              "<Figure size 720x432 with 1 Axes>"
            ],
            "image/png": "[encoded data removed]"
          },
          "metadata": {
            "needs_background": "light"
          }
        }
      ],
      "source": [
        "print(np.max(trace_lengths))\n",
        "print(np.argmax(trace_lengths))\n",
        "plt.figure(figsize=(10,6))\n",
        "plt.hist(trace_lengths, bins=40)\n",
        "plt.ylabel('counts')\n",
        "plt.xlabel('trace length')\n",
        "#plt.savefig('./figures/trace_lengths.jpg')"
      ]
    },
    {
      "cell_type": "code",
      "execution_count": 10,
      "metadata": {
        "colab": {
          "base_uri": "https://localhost:8080/"
        },
        "id": "v1j1XIPakLiv",
        "outputId": "dd92a8e0-44f5-4aff-cfa6-41d3e9d0b029"
      },
      "outputs": [
        {
          "output_type": "stream",
          "name": "stdout",
          "text": [
            "83\n",
            "0.007587530852911601\n"
          ]
        }
      ],
      "source": [
        "trace_lengths = np.array(trace_lengths)\n",
        "\n",
        "n = (trace_lengths > 2000).sum()\n",
        "\n",
        "print(n)\n",
        "print(n/len(trace_lengths))"
      ]
    },
    {
      "cell_type": "markdown",
      "metadata": {
        "id": "0tw63YdRkLiv"
      },
      "source": [
        "### Cutoff expressoins where traces have length > 2000"
      ]
    },
    {
      "cell_type": "code",
      "execution_count": 11,
      "metadata": {
        "id": "oShp1wa8kLiw"
      },
      "outputs": [],
      "source": [
        "def cutoff_traces(dataset, max_len):\n",
        "    '''Remove samples from X an y where y has a token length > 150.'''\n",
        "    traces, images, tokens = dataset[0], dataset[1], dataset[2]\n",
        "    \n",
        "    trace_lengths = []\n",
        "    for sample, trace in enumerate(traces):\n",
        "        x, y = [], []\n",
        "        for i in range(len(trace[0])):\n",
        "            x.extend(trace[0][i])\n",
        "            y.extend(trace[1][i])\n",
        "\n",
        "        assert len(x)==len(y)\n",
        "        trace_lengths.append(len(x))\n",
        "        \n",
        "    trace_lengths = np.array(trace_lengths)\n",
        "    to_keep = list(np.where(trace_lengths > max_len)[0])\n",
        "    removed = []\n",
        "    for idx in reversed(to_keep):\n",
        "#         print(idx)\n",
        "        removed.append([dataset[i].pop(idx) for i in range(4)])\n",
        "    return removed\n",
        "                           \n",
        "rem = cutoff_traces(dataset, max_len=2000)"
      ]
    },
    {
      "cell_type": "code",
      "execution_count": 12,
      "metadata": {
        "colab": {
          "base_uri": "https://localhost:8080/"
        },
        "id": "n6DOK7A6kLiw",
        "outputId": "194c1c81-739c-4fe5-f95a-02f5736c013b"
      },
      "outputs": [
        {
          "output_type": "execute_result",
          "data": {
            "text/plain": [
              "83"
            ]
          },
          "metadata": {},
          "execution_count": 12
        }
      ],
      "source": [
        "len(rem)"
      ]
    },
    {
      "cell_type": "code",
      "execution_count": 13,
      "metadata": {
        "id": "-feyWZLfkLiw"
      },
      "outputs": [],
      "source": [
        "traces, images, tokens = dataset[0], dataset[1], dataset[2]"
      ]
    },
    {
      "cell_type": "code",
      "execution_count": 14,
      "metadata": {
        "colab": {
          "base_uri": "https://localhost:8080/"
        },
        "id": "vI2xR846kLix",
        "outputId": "07568f56-cdb6-4090-bd94-321f000407a3"
      },
      "outputs": [
        {
          "output_type": "execute_result",
          "data": {
            "text/plain": [
              "10856"
            ]
          },
          "metadata": {},
          "execution_count": 14
        }
      ],
      "source": [
        "len(traces)"
      ]
    },
    {
      "cell_type": "markdown",
      "metadata": {
        "id": "0CTn47mYkLix"
      },
      "source": [
        "### Cutoff tokens longer than length 150\n",
        "\n",
        "Like mentioned in the paper (A Visual Latex Decompiler), we remove training samples with tokens longer than 150. However, we leave them in for testing.\n",
        "\n",
        "We would thus remove 23 samples from the training set."
      ]
    },
    {
      "cell_type": "code",
      "execution_count": 15,
      "metadata": {
        "colab": {
          "base_uri": "https://localhost:8080/",
          "height": 440
        },
        "id": "ExiFEscAkLix",
        "outputId": "58816b43-cf0c-454c-b6b7-62e6eac62842"
      },
      "outputs": [
        {
          "output_type": "stream",
          "name": "stdout",
          "text": [
            "482\n",
            "7218\n"
          ]
        },
        {
          "output_type": "execute_result",
          "data": {
            "text/plain": [
              "Text(0.5, 0, 'token length')"
            ]
          },
          "metadata": {},
          "execution_count": 15
        },
        {
          "output_type": "display_data",
          "data": {
            "text/plain": [
              "<Figure size 720x432 with 1 Axes>"
            ],
            "image/png": "[encoded data removed]"
          },
          "metadata": {
            "needs_background": "light"
          }
        }
      ],
      "source": [
        "L = []\n",
        "\n",
        "for tok in tokens:\n",
        "    L.append(len(tok))\n",
        "    \n",
        "print(np.max(L))\n",
        "print(np.argmax(L))\n",
        "plt.figure(figsize=(10,6))\n",
        "plt.hist(L, bins=40)\n",
        "plt.ylabel('occurences')\n",
        "plt.xlabel('token length')\n",
        "#plt.savefig('./figures/token_lengths.jpg')"
      ]
    },
    {
      "cell_type": "code",
      "execution_count": 30,
      "metadata": {
        "colab": {
          "base_uri": "https://localhost:8080/"
        },
        "id": "BccCF8krkLiy",
        "outputId": "5391a551-6224-4a15-af27-0fb904e96b76"
      },
      "outputs": [
        {
          "output_type": "stream",
          "name": "stdout",
          "text": [
            "10\n",
            "10\n",
            "10\n",
            "10\n"
          ]
        }
      ],
      "source": [
        "from sklearn.model_selection import train_test_split\n",
        "\n",
        "X_train, X_test, y_train, y_test = train_test_split(traces, tokens, test_size=1/4)\n",
        "\n",
        "X_train = X_train[:10]\n",
        "X_test = X_test[:10]\n",
        "y_train = y_train[:10]\n",
        "y_test = y_test[:10]\n",
        "\n",
        "print(len(X_train))\n",
        "print(len(y_train))\n",
        "print(len(X_test))\n",
        "print(len(y_test))"
      ]
    },
    {
      "cell_type": "code",
      "execution_count": 31,
      "metadata": {
        "id": "N8FQbBAtkLiy"
      },
      "outputs": [],
      "source": [
        "def cutoff(X, y, token_length):\n",
        "    '''Remove samples from X an y where y has a token length > 150.'''\n",
        "    removed = []\n",
        "    for idx in reversed(range(len(y))):\n",
        "        if len(y[idx]) > token_length:\n",
        "            print(idx)\n",
        "            removed.append((X.pop(idx), y.pop(idx)))\n",
        "    return removed\n",
        "                           \n",
        "rem = cutoff(X_train, y_train, token_length=150)"
      ]
    },
    {
      "cell_type": "code",
      "execution_count": 32,
      "metadata": {
        "colab": {
          "base_uri": "https://localhost:8080/"
        },
        "id": "FxxnsjtDkLiy",
        "outputId": "c7aba223-f576-42fe-dac9-533efda44b88"
      },
      "outputs": [
        {
          "output_type": "execute_result",
          "data": {
            "text/plain": [
              "10"
            ]
          },
          "metadata": {},
          "execution_count": 32
        }
      ],
      "source": [
        "len(X_train)"
      ]
    },
    {
      "cell_type": "markdown",
      "metadata": {
        "id": "O7ADjDBukLiz"
      },
      "source": [
        "## Load vocabulary (unique LaTex tokens)"
      ]
    },
    {
      "cell_type": "code",
      "execution_count": 33,
      "metadata": {
        "id": "O4FZgWOekLiz"
      },
      "outputs": [],
      "source": [
        "from encode import train_label_encoding, OneHotEncoder\n",
        "\n",
        "# load vocabulary\n",
        "DATA = '/content/drive/MyDrive/'\n",
        "\n",
        "vocab = np.load(DATA + 'labelencoding.npy')\n",
        "label_enc = train_label_encoding(vocab)"
      ]
    },
    {
      "cell_type": "markdown",
      "metadata": {
        "id": "fJ9dcssWkLiz"
      },
      "source": [
        "## Torch Dataset object\n",
        "\n",
        "### Function for processing traces:\n",
        "\n",
        "* Pad to len 2000 with fill-forward\n",
        "* Log scale"
      ]
    },
    {
      "cell_type": "code",
      "execution_count": 34,
      "metadata": {
        "colab": {
          "base_uri": "https://localhost:8080/"
        },
        "id": "WgPde8DOkLiz",
        "outputId": "6715f8de-2e4e-4c16-b6fc-70e09f41428c"
      },
      "outputs": [
        {
          "output_type": "stream",
          "name": "stdout",
          "text": [
            "torch.Size([200, 3])\n"
          ]
        }
      ],
      "source": [
        "def process_trace(trace: np.ndarray,  skip_t=10, pad_len=200, fill='last', scale=True) -> np.ndarray:\n",
        "    x, y = [], []\n",
        "    timechannel = []\n",
        "    current_t = 0\n",
        "    for i in range(len(trace[0])):\n",
        "        x.extend(trace[0][i])\n",
        "        y.extend(trace[1][i])\n",
        "        current_segment_times = np.arange(len(trace[0][i])).astype(float)\n",
        "        timechannel.extend(current_t + current_segment_times)\n",
        "        current_t = current_t + skip_t + current_segment_times[-1]\n",
        "    \n",
        "    # Normalize time channel\n",
        "    timechannel = np.array(timechannel)\n",
        "    timechannel /= timechannel.max()\n",
        "    \n",
        "    # Log Scale \n",
        "    if scale==True:\n",
        "        x = torch.tensor(x).log()\n",
        "        y = torch.tensor(y).log()        \n",
        "    \n",
        "    # Append time channel\n",
        "    unpadded = torch.tensor([timechannel, x, y]) \n",
        "    \n",
        "    # Uniformly sample min(pad_len, trace_len) elements\n",
        "    unpadded_len = unpadded.shape[1]\n",
        "    sample_n_points = np.min([unpadded_len, pad_len])\n",
        "    mask = torch.zeros(unpadded_len, dtype=int)\n",
        "    mask[:sample_n_points] = 1\n",
        "    mask = mask[torch.randperm(len(mask))]\n",
        "    unpadded = unpadded[:,mask.to(torch.bool)]\n",
        "          \n",
        "    if unpadded.shape[1] < pad_len:\n",
        "        # Padding\n",
        "        if fill=='nan':\n",
        "            pad = torch.full((3, pad_len-unpadded.shape[1]), float('nan'))\n",
        "        elif fill=='last':\n",
        "            pad = unpadded[:,-1].unsqueeze(1).expand(-1, pad_len - unpadded.shape[1])\n",
        "        else: raise ValueError()        \n",
        "        return torch.cat([unpadded,pad], dim=1).T\n",
        "    else:\n",
        "        return unpadded.T\n",
        "    \n",
        "trace_tensor = process_trace(traces[2], skip_t=10, pad_len=200, scale=True)\n",
        "print(trace_tensor.shape)\n",
        "# print(trace_tensor)"
      ]
    },
    {
      "cell_type": "code",
      "execution_count": 35,
      "metadata": {
        "colab": {
          "base_uri": "https://localhost:8080/",
          "height": 374
        },
        "id": "Ppb6gtkVkLi0",
        "outputId": "86e52926-f768-4ee9-b6a6-b46adcd2d8a0"
      },
      "outputs": [
        {
          "output_type": "display_data",
          "data": {
            "text/plain": [
              "<Figure size 864x432 with 1 Axes>"
            ],
            "image/png": "[encoded data removed]"
          },
          "metadata": {
            "needs_background": "light"
          }
        }
      ],
      "source": [
        "plt.figure(figsize=(12,6))\n",
        "plt.scatter(trace_tensor.T[1], trace_tensor.T[2], s=3)\n",
        "\n",
        "for i in range(trace_tensor.T.shape[1]):\n",
        "    x, y = trace_tensor.T[1, i], trace_tensor.T[2, i]\n",
        "    plt.annotate(trace_tensor.T[0, i].item(), (x, y), fontsize=8)\n",
        "plt.gca().invert_yaxis()\n",
        "# plt.savefig('timechannel.jpg')"
      ]
    },
    {
      "cell_type": "code",
      "execution_count": 36,
      "metadata": {
        "id": "Om8b_rQ9kLi0"
      },
      "outputs": [],
      "source": [
        "from torch.utils.data import Dataset\n",
        "from torchvision import datasets\n",
        "from torch.utils.data import DataLoader\n",
        "\n",
        "# input_shape=(250, 490)\n",
        "\n",
        "transform = process_trace\n",
        "\n",
        "target_transform = OneHotEncoder(label_enc)\n",
        "\n",
        "class TraceTokenDataset(Dataset):\n",
        "    def __init__(self, traces, tokens, transform=transform, target_transform=target_transform, vocab=vocab):\n",
        "        self.traces = traces\n",
        "        self.tokens = tokens\n",
        "        self.transform = transform\n",
        "        self.target_transform = target_transform\n",
        "        self.vocab = vocab\n",
        "\n",
        "    def __len__(self):\n",
        "        return len(self.traces)\n",
        "\n",
        "    def __getitem__(self, idx):\n",
        "        trace = self.traces[idx]\n",
        "        target = self.tokens[idx]\n",
        "        if self.transform:\n",
        "            trace = self.transform(trace)\n",
        "        if self.target_transform:\n",
        "            target = self.target_transform(target)\n",
        "        return trace, target\n",
        "    \n",
        "    \n",
        "train_data = TraceTokenDataset(X_train, y_train, transform=transform, target_transform=target_transform, vocab=vocab)\n",
        "    \n",
        "test_data = TraceTokenDataset(X_test, y_test, transform=transform, target_transform=target_transform, vocab=vocab)"
      ]
    },
    {
      "cell_type": "code",
      "execution_count": 37,
      "metadata": {
        "id": "0etr9k6ckLi0"
      },
      "outputs": [],
      "source": [
        "class CDEFunc(torch.nn.Module):\n",
        "    def __init__(self, input_channels, hidden_channels, activation_function=\"relu\"):\n",
        "        ######################\n",
        "        # input_channels is the number of input channels in the data X. (Determined by the data.)\n",
        "        # hidden_channels is the number of channels for z_t. (Determined by you!)\n",
        "        ######################\n",
        "        super(CDEFunc, self).__init__()\n",
        "        self.input_channels = input_channels\n",
        "        self.hidden_channels = hidden_channels\n",
        "        self.linear1 = torch.nn.Linear(hidden_channels, 128)\n",
        "        self.linear2 = torch.nn.Linear(128, 256)\n",
        "        self.linear3 = torch.nn.Linear(256, 512)\n",
        "        self.linear4 = torch.nn.Linear(512, input_channels * hidden_channels)\n",
        "        self.dropout1 = nn.Dropout(0.5)\n",
        "        self.dropout2 = nn.Dropout(0.5)\n",
        "        self.dropout3 = nn.Dropout(0.5)\n",
        "        if activation_function == 'sigmoid':\n",
        "            self.activation_function = F.sigmoid\n",
        "        elif activation_function == 'tanh':\n",
        "            self.activation_function = F.tanh\n",
        "        elif activation_function == 'relu':\n",
        "            self.activation_function = F.relu\n",
        "        \n",
        "\n",
        "    ######################\n",
        "    # For most purposes the t argument can probably be ignored; unless you want your CDE to behave differently at\n",
        "    # different times, which would be unusual. But it's there if you need it!\n",
        "    ######################\n",
        "    def forward(self, t, z):\n",
        "        # z has shape (batch, hidden_channels)\n",
        "        z = self.linear1(z)\n",
        "        z = self.dropout1(z)\n",
        "        z = self.linear2(z)\n",
        "        z = self.dropout2(z)\n",
        "        z = self.activation_function(z)\n",
        "        z = self.linear3(z)\n",
        "        z = self.dropout3(z)\n",
        "        z = self.activation_function(z)\n",
        "        z = self.linear4(z)\n",
        "        ######################\n",
        "        # Easy-to-forget gotcha: Best results tend to be obtained by adding a final tanh nonlinearity.\n",
        "        ######################\n",
        "        # z = z.tanh()\n",
        "        # print(z.shape)\n",
        "        ######################\n",
        "        # Ignoring the batch dimension, the shape of the output tensor must be a matrix,\n",
        "        # because we need it to represent a linear map from R^input_channels to R^hidden_channels.\n",
        "        ######################\n",
        "        z = z.view(z.size(0), self.hidden_channels, self.input_channels)\n",
        "        return z"
      ]
    },
    {
      "cell_type": "code",
      "execution_count": 49,
      "metadata": {
        "id": "oUaKf1MIkLi1"
      },
      "outputs": [],
      "source": [
        "class NeuralCDE(torch.nn.Module):\n",
        "    def __init__(self, input_channels, hidden_channels, output_channels, interpolation=\"cubic\"):\n",
        "        super(NeuralCDE, self).__init__()\n",
        "\n",
        "        self.func = CDEFunc(input_channels, hidden_channels)\n",
        "        self.initial1 = torch.nn.Linear(input_channels, 128)\n",
        "        self.initial2 = torch.nn.Linear(128, 512)\n",
        "        self.initial3 = torch.nn.Linear(128, 512)\n",
        "        self.initial4 = torch.nn.Bilinear(512, 512, hidden_channels)\n",
        "        self.readout = torch.nn.Linear(hidden_channels, output_channels)\n",
        "        self.interpolation = interpolation\n",
        "        self.dropout1 = nn.Dropout(0.5)\n",
        "        self.dropout2 = nn.Dropout(0.5)\n",
        "        self.dropout3 = nn.Dropout(0.5)\n",
        "        \n",
        "\n",
        "    def forward(self, coeffs):\n",
        "        if self.interpolation == 'cubic':\n",
        "            X = torchcde.CubicSpline(coeffs)\n",
        "        elif self.interpolation == 'linear':\n",
        "            X = torchcde.LinearInterpolation(coeffs)\n",
        "        else:\n",
        "            raise ValueError(\"Only 'linear' and 'cubic' interpolation methods are implemented.\")\n",
        "\n",
        "        ######################\n",
        "        # Easy to forget gotcha: Initial hidden state should be a function of the first observation.\n",
        "        ######################\n",
        "        X0 = X.evaluate(X.interval[0])\n",
        "        z0 = self.initial1(X0)\n",
        "        z0 = self.dropout1(z0)\n",
        "        z2 = self.initial2(z0)\n",
        "        z2 = self.dropout2(z2)\n",
        "        z3 = self.initial3(z0)\n",
        "        z3 = self.dropout2(z3)\n",
        "        z0 = self.initial4(z2, z3)\n",
        "        # print(X0.shape)\n",
        "\n",
        "        ######################\n",
        "        # Actually solve the CDE.\n",
        "        ######################\n",
        "        # print(X.interval, X0.shape, z0.shape)\n",
        "        z_T = torchcde.cdeint(X=X,\n",
        "                              z0=z0,\n",
        "                              func=self.func,\n",
        "                              t=X.interval)\n",
        "\n",
        "        ######################\n",
        "        # Both the initial value and the terminal value are returned from cdeint; extract just the terminal value,\n",
        "        # and then apply a linear map.\n",
        "        ######################\n",
        "        # print(z_T.shape)\n",
        "        z_T = z_T[:, 0]\n",
        "        pred_y = self.readout(z_T)\n",
        "        return pred_y"
      ]
    },
    {
      "cell_type": "code",
      "execution_count": 50,
      "metadata": {
        "id": "qLno3ietkLi1"
      },
      "outputs": [],
      "source": [
        "def test_batch(model, batch, device, threshold=0.5):\n",
        "      \n",
        "    coeffs, labels = batch[0].to(device), batch[1].to(device)\n",
        "    outputs = torch.sigmoid(model(coeffs)).squeeze(-1).to('cpu')\n",
        "    \n",
        "    #print(np.where(y == 1))\n",
        "#     correct, total = [], []\n",
        "    P, R = [], []\n",
        "    \n",
        "    for sample in range(len(outputs.cpu())):\n",
        "        pred_pos = set(np.where(outputs[sample].cpu()>=threshold)[0])\n",
        "        pred_neg = set(np.where(outputs[sample].cpu()<threshold)[0])\n",
        "        actual_pos = set(np.where(labels[sample].cpu()==1)[0])\n",
        "        actual_neg = set(np.where(labels[sample].cpu()==0)[0])\n",
        "        if len(actual_pos) < 1:\n",
        "            continue\n",
        "        TP = len(pred_pos & actual_pos)\n",
        "        FP = len(pred_pos & actual_neg)\n",
        "        TN = len(pred_neg & actual_neg)\n",
        "        FN = len(pred_neg & actual_pos)\n",
        "        precision = TP/(TP+FP) if TP+FP > 0 else 0\n",
        "        recall = TP/(TP+FN) if TP+FN > 0 else 0\n",
        "        P.append(precision)\n",
        "        R.append(recall)\n",
        "\n",
        "    P, R = np.array(P), np.array(R)\n",
        "    return [P.mean(), P.std(), R.mean(), R.std()]\n",
        "\n",
        "    \n",
        "    \n",
        "def test(model, testloader, threshold=0.5):\n",
        "    device = torch.device(\"cpu\")\n",
        "\n",
        "    for d in testloader:\n",
        "        test_x = d[0].float().to(device)\n",
        "        test_y = d[1].float().to(device)\n",
        "    \n",
        "    test_coeffs = torchcde.hermite_cubic_coefficients_with_backward_differences(test_x).to(device)\n",
        "    test_dataset = torch.utils.data.TensorDataset(test_coeffs, test_y)\n",
        "    test_dataloader = torch.utils.data.DataLoader(test_dataset, batch_size=128)\n",
        "    \n",
        "    with torch.no_grad():\n",
        "    \n",
        "        for batch in test_dataloader:\n",
        "            print(test_batch(model, batch, device))\n",
        "#             batch_coeffs, batch_y = batch[0].to(device), batch[1].to(device)\n",
        "            \n",
        "#             outputs = torch.sigmoid(model(batch_coeffs)).squeeze(-1).to('cpu')\n",
        "    \n",
        "#             print(outputs.shape)\n",
        "#             print(outputs[0])\n",
        "#             print(outputs[0][np.where(batch_y[0] == 1)] )\n",
        "            break\n",
        "#     correct = []\n",
        "#     total = []\n",
        "    \n",
        "#     with torch.no_grad():\n",
        "#         for idx, data in enumerate(testloader):\n",
        "#             inputs, labels = data[0].float().to(device), data[1].float().to(device)\n",
        "#             outputs = model(inputs)\n",
        "            \n",
        "#             for sample in range(len(outputs.cpu())):\n",
        "#                 preds = np.where(outputs[sample].cpu()>threshold)[0]\n",
        "#                 labels_ = np.where(labels[sample].cpu()==1)[0]\n",
        "#                 if len(labels_) < 1:\n",
        "#                     continue\n",
        "#                 intersection = set(preds) & set(labels_)\n",
        "#                 total.append(len(labels_))\n",
        "#                 correct.append(len(intersection))\n",
        "#         return np.array(correct), np.array(total)"
      ]
    },
    {
      "cell_type": "code",
      "execution_count": 51,
      "metadata": {
        "id": "m7nY3Kz4kLi1"
      },
      "outputs": [],
      "source": [
        "# Get whole processed dataset in order to compute interpolation coefficients\n",
        "trainloader = DataLoader(train_data, batch_size=len(train_data), shuffle=True)\n",
        "testloader = DataLoader(test_data, batch_size=len(test_data), shuffle=True)"
      ]
    },
    {
      "cell_type": "code",
      "execution_count": 52,
      "metadata": {
        "id": "mNBCdjYqkLi2"
      },
      "outputs": [],
      "source": [
        "# from torch.utils.tensorboard import SummaryWriter\n",
        "# writer = SummaryWriter()"
      ]
    },
    {
      "cell_type": "code",
      "execution_count": 53,
      "metadata": {
        "colab": {
          "base_uri": "https://localhost:8080/"
        },
        "id": "iESUEObVkLi2",
        "outputId": "54f816a7-2a93-4af5-e2ad-aedcbf3e080e"
      },
      "outputs": [
        {
          "output_type": "stream",
          "name": "stdout",
          "text": [
            "cuda:0\n"
          ]
        }
      ],
      "source": [
        "vocab_len = 126\n",
        "num_epochs = 1\n",
        "batch_size = 10\n",
        "log_every_n_batch=1\n",
        "device = torch.device(\"cuda:0\" if torch.cuda.is_available() else \"cpu\" )\n",
        "#     device = torch.device('cpu')\n",
        "print(device)\n",
        "for d in trainloader:\n",
        "    train_x = d[0].float().to(device)\n",
        "    train_y = d[1].float().to(device)\n",
        "\n",
        "######################\n",
        "# input_channels=3 because we have both the horizontal and vertical position of a point in the spiral, and time.\n",
        "# hidden_channels=8 is the number of hidden channels for the evolving z_t, which we get to choose.\n",
        "# output_channels=1 because we're doing binary classification.\n",
        "######################\n",
        "model_config = {\n",
        "    'input_channels': 3,\n",
        "    'hidden_channels': 10,\n",
        "    'output_channels': vocab_len,\n",
        "    'lr': 1e-4,\n",
        "    'save_dir': './model/eps/',\n",
        "    'step': 0,\n",
        "    'eps': 1e-8,\n",
        "}\n",
        "\n",
        "model = NeuralCDE(\n",
        "    input_channels=model_config['input_channels'], hidden_channels=model_config['hidden_channels'], \n",
        "    output_channels=model_config['output_channels']\n",
        "    )\n",
        "model.to(device)\n",
        "#print(model)\n",
        "optimizer = torch.optim.AdamW(model.parameters(), lr=model_config['lr'], eps=model_config['eps'])\n",
        "\n",
        "\n"
      ]
    },
    {
      "cell_type": "code",
      "execution_count": 54,
      "metadata": {
        "id": "k8m3S_TjkLi2"
      },
      "outputs": [],
      "source": [
        "def save_model(model, step, config):\n",
        "    \"\"\"\n",
        "    Save the trained model\n",
        "    \"\"\"\n",
        "    save_dir = config['save_dir']\n",
        "    step = config['step'] + step\n",
        "    path = os.path.join(save_dir, '{}.ckpt'.format(step+1))\n",
        "\n",
        "    torch.save(model.state_dict(), path)\n",
        "    \n",
        "    print('Saved model checkpoint as {}...'.format(path))\n"
      ]
    },
    {
      "cell_type": "code",
      "execution_count": 55,
      "metadata": {
        "id": "fuai619vkLi2"
      },
      "outputs": [],
      "source": [
        "# save_model(model, 0, model_config)"
      ]
    },
    {
      "cell_type": "code",
      "execution_count": 56,
      "metadata": {
        "id": "QeG-53mrkLi2"
      },
      "outputs": [],
      "source": [
        "def restore_model(config, device=None):\n",
        "    \"\"\"\n",
        "    Restore the trained model.\n",
        "    \"\"\"\n",
        "    step = config['step']\n",
        "    print('Loading the trained models from step {}...'.format(step))\n",
        "    path = os.path.join(config['save_dir'], '{}.ckpt'.format(step))\n",
        "\n",
        "    model = NeuralCDE(input_channels=3, hidden_channels=model_config['hidden_channels'], output_channels=model_config['output_channels'])\n",
        "        \n",
        "    model.load_state_dict(torch.load(path))\n",
        "    \n",
        "    if device:\n",
        "        model = model.to(device)\n",
        "\n",
        "    return model"
      ]
    },
    {
      "cell_type": "code",
      "execution_count": 57,
      "metadata": {
        "id": "P-zuRpjtkLi2"
      },
      "outputs": [],
      "source": [
        "# model = restore_model(model_config, device=device)"
      ]
    },
    {
      "cell_type": "code",
      "execution_count": 58,
      "metadata": {
        "id": "D4RB2HZ4kLi2"
      },
      "outputs": [],
      "source": [
        "np.random.seed(0)"
      ]
    },
    {
      "cell_type": "code",
      "execution_count": 59,
      "metadata": {
        "colab": {
          "base_uri": "https://localhost:8080/",
          "height": 763
        },
        "id": "Z1JnQypCkLi3",
        "outputId": "528e4349-1319-4b17-da61-ba6c6498b8be"
      },
      "outputs": [
        {
          "output_type": "stream",
          "name": "stdout",
          "text": [
            "Start training...\n",
            "func.linear1.weight tensor(0., device='cuda:0') tensor(6.5881, device='cuda:0')\n",
            "func.linear1.bias tensor(0., device='cuda:0') tensor(1.9679, device='cuda:0')\n",
            "func.linear2.weight tensor(0., device='cuda:0') tensor(9.2684, device='cuda:0')\n",
            "func.linear2.bias tensor(0., device='cuda:0') tensor(0.7695, device='cuda:0')\n",
            "func.linear3.weight tensor(0., device='cuda:0') tensor(13.0709, device='cuda:0')\n",
            "func.linear3.bias tensor(0., device='cuda:0') tensor(0.8247, device='cuda:0')\n",
            "func.linear4.weight tensor(0., device='cuda:0') tensor(3.1595, device='cuda:0')\n",
            "func.linear4.bias tensor(0., device='cuda:0') tensor(0.1242, device='cuda:0')\n",
            "initial1.weight tensor(45.8082, device='cuda:0') tensor(6.6195, device='cuda:0')\n",
            "initial1.bias tensor(3.7999, device='cuda:0') tensor(3.7024, device='cuda:0')\n",
            "initial2.weight tensor(178.6384, device='cuda:0') tensor(13.0967, device='cuda:0')\n",
            "initial2.bias tensor(2.5942, device='cuda:0') tensor(1.1632, device='cuda:0')\n",
            "initial3.weight tensor(166.0750, device='cuda:0') tensor(13.0601, device='cuda:0')\n",
            "initial3.bias tensor(2.4710, device='cuda:0') tensor(1.1043, device='cuda:0')\n",
            "initial4.weight tensor(347.5068, device='cuda:0') tensor(41.3185, device='cuda:0')\n",
            "initial4.bias tensor(0.0387, device='cuda:0') tensor(0.0692, device='cuda:0')\n",
            "readout.weight tensor(17.1217, device='cuda:0') tensor(6.6627, device='cuda:0')\n",
            "readout.bias tensor(0.0421, device='cuda:0') tensor(2.0595, device='cuda:0')\n",
            "Batch: 0   Training loss: 59.00236892700195\n",
            "Precision: 7.36 +/- 4.1 %\n",
            "Recall: 60.11 +/- 27.7 %\n"
          ]
        },
        {
          "output_type": "error",
          "ename": "FileNotFoundError",
          "evalue": "ignored",
          "traceback": [
            "\u001b[0;31m---------------------------------------------------------------------------\u001b[0m",
            "\u001b[0;31mFileNotFoundError\u001b[0m                         Traceback (most recent call last)",
            "\u001b[0;32m<ipython-input-59-d171fa69dc1c>\u001b[0m in \u001b[0;36m<module>\u001b[0;34m()\u001b[0m\n\u001b[1;32m     57\u001b[0m                 \u001b[0mprint\u001b[0m\u001b[0;34m(\u001b[0m\u001b[0;34mf'Precision: {100*p_m:.2f} +/- {100*p_s:.1f} %'\u001b[0m\u001b[0;34m)\u001b[0m\u001b[0;34m\u001b[0m\u001b[0;34m\u001b[0m\u001b[0m\n\u001b[1;32m     58\u001b[0m                 \u001b[0mprint\u001b[0m\u001b[0;34m(\u001b[0m\u001b[0;34mf'Recall: {100*r_m:.2f} +/- {100*r_s:.1f} %'\u001b[0m\u001b[0;34m)\u001b[0m\u001b[0;34m\u001b[0m\u001b[0;34m\u001b[0m\u001b[0m\n\u001b[0;32m---> 59\u001b[0;31m                 \u001b[0msave_model\u001b[0m\u001b[0;34m(\u001b[0m\u001b[0mmodel\u001b[0m\u001b[0;34m,\u001b[0m \u001b[0mi\u001b[0m\u001b[0;34m,\u001b[0m \u001b[0mmodel_config\u001b[0m\u001b[0;34m)\u001b[0m\u001b[0;34m\u001b[0m\u001b[0;34m\u001b[0m\u001b[0m\n\u001b[0m\u001b[1;32m     60\u001b[0m     \u001b[0;31m#         writer.flush()\u001b[0m\u001b[0;34m\u001b[0m\u001b[0;34m\u001b[0m\u001b[0;34m\u001b[0m\u001b[0m\n\u001b[1;32m     61\u001b[0m         \u001b[0mprint\u001b[0m\u001b[0;34m(\u001b[0m\u001b[0;34m'Epoch: {}   Training loss: {}'\u001b[0m\u001b[0;34m.\u001b[0m\u001b[0mformat\u001b[0m\u001b[0;34m(\u001b[0m\u001b[0mepoch\u001b[0m\u001b[0;34m,\u001b[0m \u001b[0mloss\u001b[0m\u001b[0;34m.\u001b[0m\u001b[0mitem\u001b[0m\u001b[0;34m(\u001b[0m\u001b[0;34m)\u001b[0m\u001b[0;34m)\u001b[0m\u001b[0;34m)\u001b[0m\u001b[0;34m\u001b[0m\u001b[0;34m\u001b[0m\u001b[0m\n",
            "\u001b[0;32m<ipython-input-54-6a611a6e3e37>\u001b[0m in \u001b[0;36msave_model\u001b[0;34m(model, step, config)\u001b[0m\n\u001b[1;32m      7\u001b[0m     \u001b[0mpath\u001b[0m \u001b[0;34m=\u001b[0m \u001b[0mos\u001b[0m\u001b[0;34m.\u001b[0m\u001b[0mpath\u001b[0m\u001b[0;34m.\u001b[0m\u001b[0mjoin\u001b[0m\u001b[0;34m(\u001b[0m\u001b[0msave_dir\u001b[0m\u001b[0;34m,\u001b[0m \u001b[0;34m'{}.ckpt'\u001b[0m\u001b[0;34m.\u001b[0m\u001b[0mformat\u001b[0m\u001b[0;34m(\u001b[0m\u001b[0mstep\u001b[0m\u001b[0;34m+\u001b[0m\u001b[0;36m1\u001b[0m\u001b[0;34m)\u001b[0m\u001b[0;34m)\u001b[0m\u001b[0;34m\u001b[0m\u001b[0;34m\u001b[0m\u001b[0m\n\u001b[1;32m      8\u001b[0m \u001b[0;34m\u001b[0m\u001b[0m\n\u001b[0;32m----> 9\u001b[0;31m     \u001b[0mtorch\u001b[0m\u001b[0;34m.\u001b[0m\u001b[0msave\u001b[0m\u001b[0;34m(\u001b[0m\u001b[0mmodel\u001b[0m\u001b[0;34m.\u001b[0m\u001b[0mstate_dict\u001b[0m\u001b[0;34m(\u001b[0m\u001b[0;34m)\u001b[0m\u001b[0;34m,\u001b[0m \u001b[0mpath\u001b[0m\u001b[0;34m)\u001b[0m\u001b[0;34m\u001b[0m\u001b[0;34m\u001b[0m\u001b[0m\n\u001b[0m\u001b[1;32m     10\u001b[0m \u001b[0;34m\u001b[0m\u001b[0m\n\u001b[1;32m     11\u001b[0m     \u001b[0mprint\u001b[0m\u001b[0;34m(\u001b[0m\u001b[0;34m'Saved model checkpoint as {}...'\u001b[0m\u001b[0;34m.\u001b[0m\u001b[0mformat\u001b[0m\u001b[0;34m(\u001b[0m\u001b[0mpath\u001b[0m\u001b[0;34m)\u001b[0m\u001b[0;34m)\u001b[0m\u001b[0;34m\u001b[0m\u001b[0;34m\u001b[0m\u001b[0m\n",
            "\u001b[0;32m/usr/local/lib/python3.7/dist-packages/torch/serialization.py\u001b[0m in \u001b[0;36msave\u001b[0;34m(obj, f, pickle_module, pickle_protocol, _use_new_zipfile_serialization)\u001b[0m\n\u001b[1;32m    375\u001b[0m     \u001b[0m_check_dill_version\u001b[0m\u001b[0;34m(\u001b[0m\u001b[0mpickle_module\u001b[0m\u001b[0;34m)\u001b[0m\u001b[0;34m\u001b[0m\u001b[0;34m\u001b[0m\u001b[0m\n\u001b[1;32m    376\u001b[0m \u001b[0;34m\u001b[0m\u001b[0m\n\u001b[0;32m--> 377\u001b[0;31m     \u001b[0;32mwith\u001b[0m \u001b[0m_open_file_like\u001b[0m\u001b[0;34m(\u001b[0m\u001b[0mf\u001b[0m\u001b[0;34m,\u001b[0m \u001b[0;34m'wb'\u001b[0m\u001b[0;34m)\u001b[0m \u001b[0;32mas\u001b[0m \u001b[0mopened_file\u001b[0m\u001b[0;34m:\u001b[0m\u001b[0;34m\u001b[0m\u001b[0;34m\u001b[0m\u001b[0m\n\u001b[0m\u001b[1;32m    378\u001b[0m         \u001b[0;32mif\u001b[0m \u001b[0m_use_new_zipfile_serialization\u001b[0m\u001b[0;34m:\u001b[0m\u001b[0;34m\u001b[0m\u001b[0;34m\u001b[0m\u001b[0m\n\u001b[1;32m    379\u001b[0m             \u001b[0;32mwith\u001b[0m \u001b[0m_open_zipfile_writer\u001b[0m\u001b[0;34m(\u001b[0m\u001b[0mopened_file\u001b[0m\u001b[0;34m)\u001b[0m \u001b[0;32mas\u001b[0m \u001b[0mopened_zipfile\u001b[0m\u001b[0;34m:\u001b[0m\u001b[0;34m\u001b[0m\u001b[0;34m\u001b[0m\u001b[0m\n",
            "\u001b[0;32m/usr/local/lib/python3.7/dist-packages/torch/serialization.py\u001b[0m in \u001b[0;36m_open_file_like\u001b[0;34m(name_or_buffer, mode)\u001b[0m\n\u001b[1;32m    229\u001b[0m \u001b[0;32mdef\u001b[0m \u001b[0m_open_file_like\u001b[0m\u001b[0;34m(\u001b[0m\u001b[0mname_or_buffer\u001b[0m\u001b[0;34m,\u001b[0m \u001b[0mmode\u001b[0m\u001b[0;34m)\u001b[0m\u001b[0;34m:\u001b[0m\u001b[0;34m\u001b[0m\u001b[0;34m\u001b[0m\u001b[0m\n\u001b[1;32m    230\u001b[0m     \u001b[0;32mif\u001b[0m \u001b[0m_is_path\u001b[0m\u001b[0;34m(\u001b[0m\u001b[0mname_or_buffer\u001b[0m\u001b[0;34m)\u001b[0m\u001b[0;34m:\u001b[0m\u001b[0;34m\u001b[0m\u001b[0;34m\u001b[0m\u001b[0m\n\u001b[0;32m--> 231\u001b[0;31m         \u001b[0;32mreturn\u001b[0m \u001b[0m_open_file\u001b[0m\u001b[0;34m(\u001b[0m\u001b[0mname_or_buffer\u001b[0m\u001b[0;34m,\u001b[0m \u001b[0mmode\u001b[0m\u001b[0;34m)\u001b[0m\u001b[0;34m\u001b[0m\u001b[0;34m\u001b[0m\u001b[0m\n\u001b[0m\u001b[1;32m    232\u001b[0m     \u001b[0;32melse\u001b[0m\u001b[0;34m:\u001b[0m\u001b[0;34m\u001b[0m\u001b[0;34m\u001b[0m\u001b[0m\n\u001b[1;32m    233\u001b[0m         \u001b[0;32mif\u001b[0m \u001b[0;34m'w'\u001b[0m \u001b[0;32min\u001b[0m \u001b[0mmode\u001b[0m\u001b[0;34m:\u001b[0m\u001b[0;34m\u001b[0m\u001b[0;34m\u001b[0m\u001b[0m\n",
            "\u001b[0;32m/usr/local/lib/python3.7/dist-packages/torch/serialization.py\u001b[0m in \u001b[0;36m__init__\u001b[0;34m(self, name, mode)\u001b[0m\n\u001b[1;32m    210\u001b[0m \u001b[0;32mclass\u001b[0m \u001b[0m_open_file\u001b[0m\u001b[0;34m(\u001b[0m\u001b[0m_opener\u001b[0m\u001b[0;34m)\u001b[0m\u001b[0;34m:\u001b[0m\u001b[0;34m\u001b[0m\u001b[0;34m\u001b[0m\u001b[0m\n\u001b[1;32m    211\u001b[0m     \u001b[0;32mdef\u001b[0m \u001b[0m__init__\u001b[0m\u001b[0;34m(\u001b[0m\u001b[0mself\u001b[0m\u001b[0;34m,\u001b[0m \u001b[0mname\u001b[0m\u001b[0;34m,\u001b[0m \u001b[0mmode\u001b[0m\u001b[0;34m)\u001b[0m\u001b[0;34m:\u001b[0m\u001b[0;34m\u001b[0m\u001b[0;34m\u001b[0m\u001b[0m\n\u001b[0;32m--> 212\u001b[0;31m         \u001b[0msuper\u001b[0m\u001b[0;34m(\u001b[0m\u001b[0m_open_file\u001b[0m\u001b[0;34m,\u001b[0m \u001b[0mself\u001b[0m\u001b[0;34m)\u001b[0m\u001b[0;34m.\u001b[0m\u001b[0m__init__\u001b[0m\u001b[0;34m(\u001b[0m\u001b[0mopen\u001b[0m\u001b[0;34m(\u001b[0m\u001b[0mname\u001b[0m\u001b[0;34m,\u001b[0m \u001b[0mmode\u001b[0m\u001b[0;34m)\u001b[0m\u001b[0;34m)\u001b[0m\u001b[0;34m\u001b[0m\u001b[0;34m\u001b[0m\u001b[0m\n\u001b[0m\u001b[1;32m    213\u001b[0m \u001b[0;34m\u001b[0m\u001b[0m\n\u001b[1;32m    214\u001b[0m     \u001b[0;32mdef\u001b[0m \u001b[0m__exit__\u001b[0m\u001b[0;34m(\u001b[0m\u001b[0mself\u001b[0m\u001b[0;34m,\u001b[0m \u001b[0;34m*\u001b[0m\u001b[0margs\u001b[0m\u001b[0;34m)\u001b[0m\u001b[0;34m:\u001b[0m\u001b[0;34m\u001b[0m\u001b[0;34m\u001b[0m\u001b[0m\n",
            "\u001b[0;31mFileNotFoundError\u001b[0m: [Errno 2] No such file or directory: './model/eps/1.ckpt'"
          ]
        }
      ],
      "source": [
        "######################\n",
        "# Now we turn our dataset into a continuous path. We do this here via Hermite cubic spline interpolation.\n",
        "# The resulting `train_coeffs` is a tensor describing the path.\n",
        "# For most problems, it's probably easiest to save this tensor and treat it as the dataset.\n",
        "######################\n",
        "#     criterion = nn.BCELoss()\n",
        "criterion = torch.nn.functional.binary_cross_entropy_with_logits\n",
        "\n",
        "train_coeffs = torchcde.hermite_cubic_coefficients_with_backward_differences(train_x)\n",
        "train_dataset = torch.utils.data.TensorDataset(train_coeffs, train_y)\n",
        "train_dataloader = torch.utils.data.DataLoader(train_dataset, batch_size=batch_size)\n",
        "losses = []\n",
        "print('Start training...')\n",
        "\n",
        "optimizer.zero_grad()\n",
        "\n",
        "with torch.autograd.set_detect_anomaly(True):\n",
        "\n",
        "    for epoch in range(num_epochs):\n",
        "        for i, batch in enumerate(train_dataloader):\n",
        "            batch_coeffs, batch_y = batch\n",
        "            batch_coeffs = batch_coeffs.to(device)\n",
        "            batch_y = batch_y.to(device)\n",
        "    #         print('forward pass')\n",
        "            pred_y = model(batch_coeffs).squeeze(-1)\n",
        "            if pred_y.isnan().any():\n",
        "                print(pred_y.min())\n",
        "                pred_y = torch.nan_to_num(pred_y)\n",
        "                pred_y = pred_y.clamp(min=0)\n",
        "                print(pred_y.min())\n",
        "    #         print('finished forward pass')\n",
        "            loss = criterion(pred_y, batch_y)\n",
        "    #         print('backprop')\n",
        "            loss.backward()\n",
        "    #         print('finished backprop')\n",
        "            optimizer.step()\n",
        "    #         print('update')\n",
        "\n",
        "\n",
        "            #==================#\n",
        "            #    Tensorboard   #\n",
        "            #==================#\n",
        "\n",
        "    #         writer.add_scalar('train loss', loss)\n",
        "\n",
        "            for name, param in model.named_parameters():\n",
        "                print(name, param.grad.norm(), param.data.norm())\n",
        "    #             writer.add_histogram(f'gradient {name}', param.grad, i)\n",
        "    #             writer.add_histogram(f'weight   {name}', param.data, i)\n",
        "\n",
        "            optimizer.zero_grad()\n",
        "            losses.append(loss)\n",
        "\n",
        "            if i % log_every_n_batch == 0:\n",
        "                print('Batch: {}   Training loss: {}'.format(i, loss.item()))\n",
        "                p_m, p_s, r_m, r_s = test_batch(model, batch, device)\n",
        "                print(f'Precision: {100*p_m:.2f} +/- {100*p_s:.1f} %')\n",
        "                print(f'Recall: {100*r_m:.2f} +/- {100*r_s:.1f} %')\n",
        "                save_model(model, i, model_config)\n",
        "    #         writer.flush()\n",
        "        print('Epoch: {}   Training loss: {}'.format(epoch, loss.item()))\n",
        "    print('Finished Training')\n"
      ]
    },
    {
      "cell_type": "code",
      "execution_count": null,
      "metadata": {
        "id": "YRg_SM1WkLi3",
        "outputId": "002c724d-18f3-4b7f-ca43-0605a91ee1dd",
        "colab": {
          "base_uri": "https://localhost:8080/"
        }
      },
      "outputs": [
        {
          "output_type": "execute_result",
          "data": {
            "text/plain": [
              "torch.Size([100, 199, 12])"
            ]
          },
          "metadata": {},
          "execution_count": 60
        }
      ],
      "source": [
        "train_coeffs.shape"
      ]
    },
    {
      "cell_type": "code",
      "execution_count": null,
      "metadata": {
        "id": "_nveGskykLi3",
        "outputId": "021c35ed-517e-4f20-90a5-85941d510bcb",
        "colab": {
          "base_uri": "https://localhost:8080/"
        }
      },
      "outputs": [
        {
          "output_type": "execute_result",
          "data": {
            "text/plain": [
              "tensor([[ 0.0000e+00,  8.9707e+00,  9.0230e+00,  ...,  0.0000e+00,\n",
              "          0.0000e+00,  0.0000e+00],\n",
              "        [ 3.4364e-03,  8.9707e+00,  9.0140e+00,  ...,  0.0000e+00,\n",
              "         -1.9054e-03, -3.0613e-03],\n",
              "        [ 6.8729e-03,  8.9713e+00,  9.0059e+00,  ...,  1.3970e-09,\n",
              "          3.0470e-03,  9.3555e-04],\n",
              "        ...,\n",
              "        [ 9.8625e-01,  9.5186e+00,  8.5184e+00,  ..., -1.7881e-07,\n",
              "         -8.8120e-04, -2.0599e-03],\n",
              "        [ 9.8969e-01,  9.5185e+00,  8.5293e+00,  ..., -1.0309e-02,\n",
              "         -2.2030e-04, -2.6496e-02],\n",
              "        [ 9.9656e-01,  9.5184e+00,  8.5491e+00,  ...,  1.0309e-02,\n",
              "         -1.3218e-03,  3.5542e-02]], device='cuda:0')"
            ]
          },
          "metadata": {},
          "execution_count": 61
        }
      ],
      "source": [
        "c = train_coeffs[0]\n",
        "c"
      ]
    },
    {
      "cell_type": "code",
      "execution_count": null,
      "metadata": {
        "id": "AOLirEIbkLi3",
        "outputId": "023f7a4d-e976-439c-f059-99be2e449c6b",
        "colab": {
          "base_uri": "https://localhost:8080/"
        }
      },
      "outputs": [
        {
          "output_type": "execute_result",
          "data": {
            "text/plain": [
              "torch.Size([199, 12])"
            ]
          },
          "metadata": {},
          "execution_count": 62
        }
      ],
      "source": [
        "c.shape"
      ]
    },
    {
      "cell_type": "code",
      "execution_count": null,
      "metadata": {
        "id": "TUdJwO2skLi3",
        "outputId": "4ab0606d-276e-477b-f5a1-5d233506abfd",
        "colab": {
          "base_uri": "https://localhost:8080/",
          "height": 370
        }
      },
      "outputs": [
        {
          "output_type": "execute_result",
          "data": {
            "text/plain": [
              "(array([  10., 1932.,   48.,    0.,    0.,    0.,    0.,    0.,    0.,\n",
              "         398.]),\n",
              " array([-1.4488525 , -0.35186177,  0.745129  ,  1.8421198 ,  2.9391105 ,\n",
              "         4.0361013 ,  5.133092  ,  6.230083  ,  7.3270736 ,  8.424065  ,\n",
              "         9.521055  ], dtype=float32),\n",
              " <a list of 10 Patch objects>)"
            ]
          },
          "metadata": {},
          "execution_count": 63
        },
        {
          "output_type": "display_data",
          "data": {
            "text/plain": [
              "<Figure size 432x288 with 1 Axes>"
            ],
            "image/png": "[encoded data removed]"
          },
          "metadata": {
            "needs_background": "light"
          }
        }
      ],
      "source": [
        "plt.hist(c.cpu().ravel(), bins=10)"
      ]
    },
    {
      "cell_type": "code",
      "execution_count": null,
      "metadata": {
        "id": "pPGpp2DakLi3",
        "outputId": "a7264f1f-a157-42d9-da1d-d572cebdec15",
        "colab": {
          "base_uri": "https://localhost:8080/"
        }
      },
      "outputs": [
        {
          "output_type": "execute_result",
          "data": {
            "text/plain": [
              "tensor(-1.4489, device='cuda:0')"
            ]
          },
          "metadata": {},
          "execution_count": 64
        }
      ],
      "source": [
        "c.min()"
      ]
    },
    {
      "cell_type": "code",
      "execution_count": null,
      "metadata": {
        "id": "Fc8lQI8LkLi3",
        "outputId": "8c244a40-3997-4777-8212-67afe5d027ee",
        "colab": {
          "base_uri": "https://localhost:8080/"
        }
      },
      "outputs": [
        {
          "output_type": "execute_result",
          "data": {
            "text/plain": [
              "tensor(9.5211, device='cuda:0')"
            ]
          },
          "metadata": {},
          "execution_count": 65
        }
      ],
      "source": [
        "c.max()"
      ]
    },
    {
      "cell_type": "code",
      "execution_count": null,
      "metadata": {
        "id": "4h3tNZN1kLi3",
        "outputId": "4d87f4dc-386e-4c84-f330-b312aa9549d1",
        "colab": {
          "base_uri": "https://localhost:8080/"
        }
      },
      "outputs": [
        {
          "output_type": "execute_result",
          "data": {
            "text/plain": [
              "torch.Size([1765])"
            ]
          },
          "metadata": {},
          "execution_count": 66
        }
      ],
      "source": [
        "c.unique(return_counts=True)[1].shape"
      ]
    },
    {
      "cell_type": "code",
      "execution_count": null,
      "metadata": {
        "id": "kIdZzajrkLi4"
      },
      "outputs": [],
      "source": [
        ""
      ]
    },
    {
      "cell_type": "code",
      "execution_count": null,
      "metadata": {
        "id": "3FfhjnL-kLi4",
        "outputId": "1584bf9d-54f5-4cf0-8cb8-9fb51e1eee5a",
        "colab": {
          "base_uri": "https://localhost:8080/"
        }
      },
      "outputs": [
        {
          "output_type": "execute_result",
          "data": {
            "text/plain": [
              "5.3e-07"
            ]
          },
          "metadata": {},
          "execution_count": 68
        }
      ],
      "source": [
        "0.0053 * model_config['lr']"
      ]
    },
    {
      "cell_type": "code",
      "execution_count": null,
      "metadata": {
        "id": "4DB9vdfAkLi4"
      },
      "outputs": [],
      "source": [
        "writer.close()\n"
      ]
    },
    {
      "cell_type": "code",
      "execution_count": null,
      "metadata": {
        "id": "z9XperWMkLi4",
        "outputId": "06e49422-e80a-40ed-9442-9ed707f7ca28"
      },
      "outputs": [
        {
          "name": "stdout",
          "output_type": "stream",
          "text": [
            "func.linear1.weight tensor(6.6265, device='cuda:0')\n",
            "func.linear1.bias tensor(0.3703, device='cuda:0')\n",
            "func.linear2.weight tensor(15.9913, device='cuda:0')\n",
            "func.linear2.bias tensor(1.4120, device='cuda:0')\n",
            "initial.weight tensor(9.3351, device='cuda:0')\n",
            "initial.bias tensor(5.6603, device='cuda:0')\n",
            "readout.weight tensor(6.5246, device='cuda:0')\n",
            "readout.bias tensor(0.4090, device='cuda:0')\n"
          ]
        }
      ],
      "source": [
        "for name, param in model.named_parameters():\n",
        "    print(name, param.data.norm())"
      ]
    },
    {
      "cell_type": "code",
      "execution_count": null,
      "metadata": {
        "id": "iiWvrEx5kLi4",
        "outputId": "53f527ea-0dc3-438f-ae29-559a5e0f0d73"
      },
      "outputs": [
        {
          "name": "stdout",
          "output_type": "stream",
          "text": [
            "linear1.weight tensor(6.6265, device='cuda:0')\n",
            "linear1.bias tensor(0.3703, device='cuda:0')\n",
            "linear2.weight tensor(15.9913, device='cuda:0')\n",
            "linear2.bias tensor(1.4120, device='cuda:0')\n"
          ]
        }
      ],
      "source": [
        "for name, param in model.func.named_parameters():\n",
        "    print(name, param.data.norm())"
      ]
    },
    {
      "cell_type": "code",
      "execution_count": null,
      "metadata": {
        "id": "WlUgqo9ikLi4",
        "outputId": "2ce3ff6d-22c6-4364-e657-aed5e7c79aa7"
      },
      "outputs": [
        {
          "name": "stdout",
          "output_type": "stream",
          "text": [
            "[0.07493699268884355, 0.042818498896016126, 0.5223782192743831, 0.211770656656533]\n"
          ]
        }
      ],
      "source": [
        "test(model.cpu(), testloader)"
      ]
    },
    {
      "cell_type": "code",
      "execution_count": null,
      "metadata": {
        "id": "3pYHI6cHkLi4"
      },
      "outputs": [],
      "source": [
        "X0, X1 = [], []\n",
        "Y0, Y1 = [], []\n",
        "\n",
        "\n",
        "for d in trainloader:\n",
        "    traces = d[0]\n",
        "    xmax = traces[:,:,1].max(1)[0]\n",
        "    xmin = traces[:,:,1].min(1)[0]\n",
        "    ymax = traces[:,:,2].max(1)[0]\n",
        "    ymin = traces[:,:,2].min(1)[0]\n"
      ]
    },
    {
      "cell_type": "code",
      "execution_count": null,
      "metadata": {
        "id": "npvdVJUkkLi5",
        "outputId": "e5485a08-986a-4035-ac42-853e651bc1cc"
      },
      "outputs": [
        {
          "data": {
            "image/png": "[encoded data removed]",
            "text/plain": [
              "<Figure size 432x288 with 1 Axes>"
            ]
          },
          "metadata": {
            "needs_background": "light"
          },
          "output_type": "display_data"
        }
      ],
      "source": [
        "plt.scatter(xmax, ymax, s=4, alpha=0.6, label='upper right')\n",
        "plt.scatter(xmin, ymin, s=4, alpha=0.6, label='lower left')\n",
        "\n",
        "plt.xscale('log')\n",
        "plt.yscale('log')\n",
        "plt.legend()\n",
        "plt.savefig('x_y_log_scale.jpg')"
      ]
    },
    {
      "cell_type": "code",
      "execution_count": null,
      "metadata": {
        "id": "pRpDJwkrkLi5",
        "outputId": "ce3eabe5-3fe5-49fc-8d74-2c088d572a3b"
      },
      "outputs": [
        {
          "data": {
            "image/png": "[encoded data removed]",
            "text/plain": [
              "<Figure size 432x288 with 1 Axes>"
            ]
          },
          "metadata": {
            "needs_background": "light"
          },
          "output_type": "display_data"
        }
      ],
      "source": [
        "plt.scatter(xmax-xmin, ymax-ymin, s=4)\n",
        "\n",
        "plt.xscale('log')\n",
        "plt.yscale('log')\n",
        "# plt.legend()"
      ]
    },
    {
      "cell_type": "code",
      "execution_count": null,
      "metadata": {
        "id": "hWeMxz3okLi5",
        "outputId": "2a05d046-1dc3-40aa-d1a4-0beaa69a89b6"
      },
      "outputs": [
        {
          "data": {
            "text/plain": [
              "tensor(3698)"
            ]
          },
          "execution_count": 58,
          "metadata": {},
          "output_type": "execute_result"
        }
      ],
      "source": [
        "xmax.argmax()"
      ]
    },
    {
      "cell_type": "code",
      "execution_count": null,
      "metadata": {
        "id": "TC4MBZwgkLi5",
        "outputId": "19f2f08a-8663-4f6f-c3a0-0a7631c32e8d"
      },
      "outputs": [
        {
          "name": "stdout",
          "output_type": "stream",
          "text": [
            "tensor(14961021., dtype=torch.float64)\n"
          ]
        },
        {
          "data": {
            "text/plain": [
              "tensor(24., dtype=torch.float64)"
            ]
          },
          "execution_count": 59,
          "metadata": {},
          "output_type": "execute_result"
        }
      ],
      "source": [
        "print(xmax[3698])\n",
        "xmin[3698]"
      ]
    },
    {
      "cell_type": "code",
      "execution_count": null,
      "metadata": {
        "id": "z6OgyjfzkLi5",
        "outputId": "9470530b-7b85-40ae-ee48-c48247d6f930"
      },
      "outputs": [
        {
          "data": {
            "text/plain": [
              "device(type='cuda', index=0)"
            ]
          },
          "execution_count": 28,
          "metadata": {},
          "output_type": "execute_result"
        }
      ],
      "source": [
        "torch.device('cuda:0')"
      ]
    },
    {
      "cell_type": "code",
      "execution_count": null,
      "metadata": {
        "id": "KxAHYgOBkLi5"
      },
      "outputs": [],
      "source": [
        ""
      ]
    }
  ],
  "metadata": {
    "kernelspec": {
      "display_name": "Python 3",
      "language": "python",
      "name": "python3"
    },
    "language_info": {
      "codemirror_mode": {
        "name": "ipython",
        "version": 3
      },
      "file_extension": ".py",
      "mimetype": "text/x-python",
      "name": "python",
      "nbconvert_exporter": "python",
      "pygments_lexer": "ipython3",
      "version": "3.8.10"
    },
    "colab": {
      "name": "bilinear_exp.ipynb",
      "provenance": [],
      "machine_shape": "hm"
    },
    "accelerator": "GPU"
  },
  "nbformat": 4,
  "nbformat_minor": 0
}